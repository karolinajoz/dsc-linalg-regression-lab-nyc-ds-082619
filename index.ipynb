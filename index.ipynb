{
 "cells": [
  {
   "cell_type": "markdown",
   "metadata": {},
   "source": [
    "# Regression with Linear Algebra - Lab\n",
    "\n",
    "## Introduction\n",
    "\n",
    "In this lab, you'll apply regression analysis using simple matrix manipulations to fit a model to given data, and then predict new values for previously unseen data. You'll follow the approach highlighted in the previous lesson where you used Numpy to build the appropriate matrices and vectors and solve for the $\\beta$ (unknown variables) vector. The beta vector will be used with test data to make new predictions. You'll also evaluate the model fit.\n",
    "In order to make this experiment interesting, you'll use NumPy at every single stage of this experiment i.e. loading data, creating matrices, performing test train split, model fitting, and evaluations.\n",
    "  \n",
    "\n",
    "## Objectives\n",
    "\n",
    "You will be able to:\n",
    "\n",
    "* Use linear algebra to apply simple regression modeling in Python and NumPy only\n",
    "* Apply train/test split using permutations in NumPy\n",
    "* Use matrix algebra with inverses and dot products to calculate the beta\n",
    "* Make predictions from the fitted model using previously unseen input features \n",
    "* Evaluate the fitted model by calculating the error between real and predicted values\n",
    "\n",
    "\n",
    "First, let's import necessary libraries "
   ]
  },
  {
   "cell_type": "code",
   "execution_count": 1,
   "metadata": {},
   "outputs": [],
   "source": [
    "import csv # for reading csv file\n",
    "import numpy as np"
   ]
  },
  {
   "cell_type": "markdown",
   "metadata": {},
   "source": [
    "## Dataset \n",
    "\n",
    "The dataset you'll use for this experiment is \"**Sales Prices in the City of Windsor, Canada**\", something very similar to the Boston Housing dataset. This dataset contains a number of input (independent) variables, including area, number of bedrooms/bathrooms, facilities(AC/garage), etc. and an output (dependent) variable, **price**.  You'll formulate a linear algebra problem to find linear mappings from input to out features using the equation provided in the previous lesson. \n",
    "\n",
    "This will allow you to find a relationship between house features and house price for the given data, allowing you to find unknown prices for houses, given the input features.  \n",
    "\n",
    "A description of the dataset and included features is available [here](https://rdrr.io/cran/Ecdat/man/Housing.html).\n",
    "\n",
    "In your repository, the dataset is available as `windsor_housing.csv` containing the following variables:\n",
    "\n",
    "there are 11 input features (first 11 columns):\n",
    "\n",
    "\tlotsize\tbedrooms  bathrms  stories\tdriveway  recroom\tfullbase  gashw\t airco  garagepl   prefarea\n",
    "\n",
    "and 1 output feature i.e. **price** (12th column). \n",
    "\n",
    "The focus of this lab is not really answering a preset analytical question, but to learn how you can perform a regression experiment, similar to the one you performed in statsmodels, using mathematical manipulations. So you won't be using any Pandas or statsmodels goodness here. The key objectives here are to \n",
    "- understand regression with matrix algebra and \n",
    "- mastery in NumPy scientific computation\n",
    "\n",
    "## Stage 1: Prepare Data for Modeling \n",
    "\n",
    "Let's give you a head start by importing the dataset. You'll perform the following steps to get the data ready for analysis:\n",
    "\n",
    "* Initialize an empty list `data` for loading data\n",
    "* Read the csv file containing complete (raw) `windsor_housing.csv`. [Use `csv.reader()` for loading data.](https://docs.python.org/3/library/csv.html). Store this in `data` one row at a time.\n",
    "\n",
    "* Drop the first row of csv file as it contains the names of variables (header) which won't be used during analysis (keeping this will cause errors as it contains text values).\n",
    "\n",
    "* Append a column of all 1s to the data (bias) as the first column\n",
    "\n",
    "* Convert `data` to a Numpy array and inspect first few rows \n",
    "\n",
    "NOTE: `read.csv()` reads the csv as a text file, so you should convert the contents to float."
   ]
  },
  {
   "cell_type": "code",
   "execution_count": 22,
   "metadata": {},
   "outputs": [
    {
     "data": {
      "text/plain": [
       "array([[1.00e+00, 5.85e+03, 3.00e+00, 1.00e+00, 2.00e+00, 1.00e+00,\n",
       "        0.00e+00, 1.00e+00, 0.00e+00, 0.00e+00, 1.00e+00, 0.00e+00,\n",
       "        4.20e+04],\n",
       "       [1.00e+00, 4.00e+03, 2.00e+00, 1.00e+00, 1.00e+00, 1.00e+00,\n",
       "        0.00e+00, 0.00e+00, 0.00e+00, 0.00e+00, 0.00e+00, 0.00e+00,\n",
       "        3.85e+04],\n",
       "       [1.00e+00, 3.06e+03, 3.00e+00, 1.00e+00, 1.00e+00, 1.00e+00,\n",
       "        0.00e+00, 0.00e+00, 0.00e+00, 0.00e+00, 0.00e+00, 0.00e+00,\n",
       "        4.95e+04],\n",
       "       [1.00e+00, 6.65e+03, 3.00e+00, 1.00e+00, 2.00e+00, 1.00e+00,\n",
       "        1.00e+00, 0.00e+00, 0.00e+00, 0.00e+00, 0.00e+00, 0.00e+00,\n",
       "        6.05e+04],\n",
       "       [1.00e+00, 6.36e+03, 2.00e+00, 1.00e+00, 1.00e+00, 1.00e+00,\n",
       "        0.00e+00, 0.00e+00, 0.00e+00, 0.00e+00, 0.00e+00, 0.00e+00,\n",
       "        6.10e+04]])"
      ]
     },
     "execution_count": 22,
     "metadata": {},
     "output_type": "execute_result"
    }
   ],
   "source": [
    "# Your Code here\n",
    "import numpy as np\n",
    "data =[]\n",
    "\n",
    "import csv\n",
    "with open('windsor_housing.csv') as csvfile:\n",
    "    reader = csv.reader(csvfile)\n",
    "    next(reader)\n",
    "    for row in reader:\n",
    "        ones = [1]\n",
    "        for r in row:\n",
    "            ones.append(float(r))\n",
    "        data.append(ones)\n",
    "data = np.array(data)\n",
    "data[:5,:]\n",
    "\n",
    "# First 5 rows of raw data \n",
    "\n",
    "# array([[1.00e+00, 5.85e+03, 3.00e+00, 1.00e+00, 2.00e+00, 1.00e+00,\n",
    "#         0.00e+00, 1.00e+00, 0.00e+00, 0.00e+00, 1.00e+00, 0.00e+00,\n",
    "#         4.20e+04],\n",
    "#        [1.00e+00, 4.00e+03, 2.00e+00, 1.00e+00, 1.00e+00, 1.00e+00,\n",
    "#         0.00e+00, 0.00e+00, 0.00e+00, 0.00e+00, 0.00e+00, 0.00e+00,\n",
    "#         3.85e+04],\n",
    "#        [1.00e+00, 3.06e+03, 3.00e+00, 1.00e+00, 1.00e+00, 1.00e+00,\n",
    "#         0.00e+00, 0.00e+00, 0.00e+00, 0.00e+00, 0.00e+00, 0.00e+00,\n",
    "#         4.95e+04],\n",
    "#        [1.00e+00, 6.65e+03, 3.00e+00, 1.00e+00, 2.00e+00, 1.00e+00,\n",
    "#         1.00e+00, 0.00e+00, 0.00e+00, 0.00e+00, 0.00e+00, 0.00e+00,\n",
    "#         6.05e+04],\n",
    "#        [1.00e+00, 6.36e+03, 2.00e+00, 1.00e+00, 1.00e+00, 1.00e+00,\n",
    "#         0.00e+00, 0.00e+00, 0.00e+00, 0.00e+00, 0.00e+00, 0.00e+00,\n",
    "#         6.10e+04]])"
   ]
  },
  {
   "cell_type": "code",
   "execution_count": null,
   "metadata": {},
   "outputs": [],
   "source": []
  },
  {
   "cell_type": "markdown",
   "metadata": {},
   "source": [
    "## Step 2: Perform a 80/20 test train Split\n",
    "\n",
    "Explore NumPy's official documentation to manually split a dataset using a random sampling method of your choice. Some useful methods are located in the [numpy.random library](https://docs.scipy.org/doc/numpy-1.14.0/reference/routines.random.html).\n",
    "* Perform a **random** 80/20 split on data using a method of your choice in NumPy\n",
    "* Create x_test, y_test, x_train and y_train arrays from the split data\n",
    "* Inspect the contents to see if the split performed as expected"
   ]
  },
  {
   "cell_type": "code",
   "execution_count": 23,
   "metadata": {},
   "outputs": [
    {
     "name": "stdout",
     "output_type": "stream",
     "text": [
      "Raw data Shape:  (546, 13)\n",
      "Train/Test Split: (437, 13) (109, 13)\n",
      "x_train, y_train, x_test, y_test: (437, 12) (437,) (109, 12) (109,)\n"
     ]
    }
   ],
   "source": [
    "# Your code here \n",
    "# Make array of indices\n",
    "indexes = np.arange(data.shape[0])\n",
    "# Randomly choose 80% subset of indices without replacement for training\n",
    "training_indexes = np.random.choice(indexes, size=round(len(data)*.8), replace=False)\n",
    "# Choose remaining 20% of indices for testing\n",
    "test_indexes = indexes[~np.isin(indexes, training_indexes)]\n",
    "# Subset data \n",
    "training, test = data[training_idx,:], data[test_idx,:]\n",
    "# Check the shape of datasets\n",
    "print ('Raw data Shape: ', data.shape)\n",
    "print ('Train/Test Split:', training.shape, test.shape)\n",
    "\n",
    "x_train = training[:,:-1]\n",
    "y_train = training [:,-1] #lats column - price - target variable\n",
    "\n",
    "x_test = test[:,:-1]\n",
    "y_test = test[:,-1]\n",
    "\n",
    "print('x_train, y_train, x_test, y_test:', x_train.shape, y_train.shape, x_test.shape, y_test.shape)\n",
    "# Raw data Shape:  (546, 13)\n",
    "# Train/Test Split: (437, 13) (109, 13)\n",
    "# x_train, y_train, x_test, y_test: (437, 12) (437,) (109, 12) (109,)"
   ]
  },
  {
   "cell_type": "markdown",
   "metadata": {},
   "source": [
    "## Step 3: Calculate the `beta` \n",
    "\n",
    "With $X$ and $y$ in place, you can now compute your beta values with $x_\\text{train}$ and $y_\\text{train}$ as:\n",
    "#### $\\beta = (x_\\text{train}^T. x_\\text{train})^{-1} . x_\\text{train}^T . y_\\text{train}$\n",
    "\n",
    "* Using numpy operations (transpose, inverse) that we saw earlier, compute the above equation in steps.\n",
    "* Print your beta values"
   ]
  },
  {
   "cell_type": "code",
   "execution_count": 24,
   "metadata": {},
   "outputs": [
    {
     "data": {
      "text/plain": [
       "array([-3.28889704e+03,  3.59304348e+00,  1.93059956e+03,  1.29268764e+04,\n",
       "        7.28549660e+03,  6.30230525e+03,  5.22284421e+03,  5.06182213e+03,\n",
       "        1.16941444e+04,  1.18299661e+04,  4.63634828e+03,  8.09677432e+03])"
      ]
     },
     "execution_count": 24,
     "metadata": {},
     "output_type": "execute_result"
    }
   ],
   "source": [
    "# Your code here \n",
    "xT = x_train.T\n",
    "xTx = np.dot(xT,x_train)\n",
    "xTx_inv = np.linalg.inv(xTx)\n",
    "xTy = np.dot(xT,y_train)\n",
    "beta = np.dot(xTx_inv,xTy)\n",
    "\n",
    "\n",
    "# Calculated beta values\n",
    "beta\n",
    "\n",
    "# Due to random split, your answers may vary \n",
    "# [-4.48935874e+03  3.25291905e+00  2.51041471e+03  1.38887244e+04\n",
    "#  6.36181829e+03  7.97134681e+03  6.73696187e+03  4.00955575e+03\n",
    "#  8.67978657e+03  1.26886121e+04  4.20044707e+03  8.63557510e+03]"
   ]
  },
  {
   "cell_type": "markdown",
   "metadata": {},
   "source": [
    "## Step 4: Make Predictions\n",
    "Great, you now have a set of coefficients that describe the linear mappings between $X$ and $y$. You can now use the calculated beta values with the test datasets that we left out to calculate $y$ predictions. Next, use all features in turn and multiply it with this beta. The result will give a prediction for each row which you can append to a new array of predictions.\n",
    "\n",
    "$\\hat{y} = x\\beta = \\beta_0 + \\beta_1 x_1 +  \\beta_2 x_2 + \\ldots + \\beta_m x_m $ \n",
    "\n",
    "* Create a new empty list (`y_pred`) for saving predictions\n",
    "* For each row of x_test, take the dot product of the row with beta to calculate the prediction for that row\n",
    "* Append the predictions to `y_pred`\n",
    "* Print the new set of predictions"
   ]
  },
  {
   "cell_type": "code",
   "execution_count": 25,
   "metadata": {
    "collapsed": true
   },
   "outputs": [
    {
     "data": {
      "text/plain": [
       "[65419.65984913264,\n",
       " 56548.85494963248,\n",
       " 98615.20245101972,\n",
       " 31563.805538132117,\n",
       " 33063.239879338165,\n",
       " 41222.013399258605,\n",
       " 64358.338664996336,\n",
       " 81280.07059028401,\n",
       " 50091.460617518154,\n",
       " 72211.2869578037,\n",
       " 92223.66316794071,\n",
       " 68280.08154113241,\n",
       " 67894.78174125028,\n",
       " 52682.98560256469,\n",
       " 71466.87338773966,\n",
       " 63367.54695903805,\n",
       " 57217.233941131395,\n",
       " 48474.15104378488,\n",
       " 51519.676007052425,\n",
       " 44885.47673666451,\n",
       " 77853.68741094357,\n",
       " 50845.55973922937,\n",
       " 74378.21030613355,\n",
       " 91491.67373804518,\n",
       " 42896.37165998154,\n",
       " 98492.3831109746,\n",
       " 101951.3982017184,\n",
       " 51762.80738865586,\n",
       " 47606.684303167494,\n",
       " 52123.49386430058,\n",
       " 51800.11995128542,\n",
       " 52004.67651258074,\n",
       " 36164.22338266759,\n",
       " 81663.76683959732,\n",
       " 63216.59498675134,\n",
       " 39078.10165382721,\n",
       " 42873.57076689563,\n",
       " 52273.378646078825,\n",
       " 53823.17595997054,\n",
       " 49071.51040235841,\n",
       " 58618.52089753041,\n",
       " 75904.52328487106,\n",
       " 61961.003050163985,\n",
       " 46488.47165417834,\n",
       " 40129.72818196296,\n",
       " 41211.06691242325,\n",
       " 81871.96113668071,\n",
       " 65185.46873540494,\n",
       " 57723.191957082985,\n",
       " 53899.34563636088,\n",
       " 48645.24122469546,\n",
       " 40165.658616742425,\n",
       " 40021.936877624576,\n",
       " 66706.61956095256,\n",
       " 67370.45333137413,\n",
       " 78400.72205343007,\n",
       " 68002.28198242807,\n",
       " 79905.9310870849,\n",
       " 38814.67426903465,\n",
       " 43389.75382736265,\n",
       " 41746.59774703875,\n",
       " 92170.27957274222,\n",
       " 73383.75660065516,\n",
       " 59641.27645997517,\n",
       " 116080.41796087888,\n",
       " 50315.94607794603,\n",
       " 73341.91906111932,\n",
       " 66962.7634282184,\n",
       " 109722.39449056872,\n",
       " 114305.86868026467,\n",
       " 84826.07384734653,\n",
       " 117992.50953431864,\n",
       " 102134.32224940162,\n",
       " 85190.77849557073,\n",
       " 66326.41805224633,\n",
       " 78994.16105287228,\n",
       " 70950.71735185554,\n",
       " 62833.48606975863,\n",
       " 47687.545981445466,\n",
       " 68089.0334021772,\n",
       " 90157.9778380173,\n",
       " 107825.86781998446,\n",
       " 100547.20245799335,\n",
       " 61871.686057480176,\n",
       " 75923.70768389275,\n",
       " 115570.61376268248,\n",
       " 58839.51644564817,\n",
       " 83383.63182497816,\n",
       " 64740.73061320058,\n",
       " 77044.03338903029,\n",
       " 89360.33268861492,\n",
       " 76083.43484152731,\n",
       " 54781.02384521644,\n",
       " 50647.70165281398,\n",
       " 41638.80644270036,\n",
       " 55583.76726416418,\n",
       " 58660.18860863401,\n",
       " 96895.27932196434,\n",
       " 108072.80623093416,\n",
       " 81512.42702536806,\n",
       " 54618.25539107288,\n",
       " 67849.20738693945,\n",
       " 90047.45817742078,\n",
       " 115015.27818925388,\n",
       " 103756.12093946969,\n",
       " 84640.53733971372,\n",
       " 78612.5228075372,\n",
       " 91700.19824219026,\n",
       " 91881.90310824153]"
      ]
     },
     "execution_count": 25,
     "metadata": {},
     "output_type": "execute_result"
    }
   ],
   "source": [
    "# Your code here \n",
    "y_pred = []\n",
    "for row in x_test:\n",
    "    y_pred.append(np.dot(row, beta))\n",
    "y_pred"
   ]
  },
  {
   "cell_type": "markdown",
   "metadata": {},
   "source": [
    "## Step 5: Evaluate Model \n",
    "\n",
    "### Visualize Actual vs. Predicted values\n",
    "This is exciting, now your model can use the beta value to predict the price of houses given the input features. Let's plot these predictions against the actual values in `y_test` to see how much our model deviates. "
   ]
  },
  {
   "cell_type": "code",
   "execution_count": 26,
   "metadata": {},
   "outputs": [],
   "source": [
    "import matplotlib.pyplot as plt\n",
    "%matplotlib inline"
   ]
  },
  {
   "cell_type": "code",
   "execution_count": null,
   "metadata": {},
   "outputs": [],
   "source": [
    "plt.plot()"
   ]
  },
  {
   "cell_type": "code",
   "execution_count": null,
   "metadata": {},
   "outputs": [],
   "source": [
    "# Plot predicted and actual values as line plots\n"
   ]
  },
  {
   "cell_type": "markdown",
   "metadata": {},
   "source": [
    "<img src =\"images/diff.png\" width=\"750\">\n",
    "\n",
    "This doesn't look so bad, does it? Your model, although isn't perfect at this stage, is making a good attempt to predict house prices although a few prediction seem a bit out. There could be a number of reasons for this. Let's try to dig a bit deeper to check model's predictive abilities by comparing these prediction with actual values of `y_test` individually. That will help you calculate the RMSE value (Root Mean Squared Error) for your model. \n",
    "### Root Mean Squared Error\n",
    "Here is the formula for this again. \n",
    "\n",
    "$$ \\large RMSE = \\sqrt{\\sum^N_{i=1}\\dfrac{ (\\text{Predicted}_i-\\text{Actual}_i)^2}{N}}$$\n",
    "\n",
    "* Initialize an empty array `err`\n",
    "* for each row in `y_test` and `y_pred`, take the squared difference and append error for each row in the `err` array\n",
    "* Calculate $RMSE$ from `err` using the formula shown above. "
   ]
  },
  {
   "cell_type": "code",
   "execution_count": null,
   "metadata": {},
   "outputs": [],
   "source": [
    "# Calculate RMSE\n",
    "\n",
    "# Due to random split, your answers may vary \n",
    "\n",
    "# RMSE = 16585.59639547113"
   ]
  },
  {
   "cell_type": "markdown",
   "metadata": {},
   "source": [
    "### Normalized Root Mean Squared Error\n",
    "The above error is clearly in terms of the dependent variable i.e. the final house price. You can also use a normalized mean squared error in case of multiple regression which can be calculated from RMSE using following the formula:\n",
    "\n",
    "* Calculate normalized Root Mean Squared Error\n",
    "\n",
    "\n",
    "$$ \\large NRMSE = \\dfrac{RMSE}{max_i y_i - min_i y_i} $$"
   ]
  },
  {
   "cell_type": "code",
   "execution_count": null,
   "metadata": {},
   "outputs": [],
   "source": [
    "# Calculate NRMSE\n",
    "\n",
    "# Due to random split, your answers may vary \n",
    "\n",
    "# 0.10051876603315836"
   ]
  },
  {
   "cell_type": "markdown",
   "metadata": {},
   "source": [
    "There it is. A complete multiple regression analysis using nothing but Numpy. Having good programming skills in numpy allows you to dig deeper into analytical algorithms in machine learning and deep learning. Using matrix multiplication techniques you saw here, you can easily build a whole neural network from scratch. \n",
    "\n",
    "## Level up - Optional \n",
    "\n",
    "* Calculate the R_squared and adjusted R_squared for the above experiment\n",
    "* Plot the residuals (similar to statsmodels) and comment on the variance and heteroscedasticity\n",
    "* Run the experiment in statsmodels and compare the performance of both approaches in terms of computational cost\n",
    "\n",
    "## Summary\n",
    "\n",
    "In this lab, you built a predictive model for predicting house prices. Remember this is a very naive implementation of regression modeling. The purpose here was to get an introduction to the applications of linear algebra into machine learning and predictive analysis. There are still have a number of shortcomings in this modeling approach and you can further apply a number of data modeling techniques to improve this model. "
   ]
  },
  {
   "cell_type": "code",
   "execution_count": null,
   "metadata": {},
   "outputs": [],
   "source": []
  }
 ],
 "metadata": {
  "kernelspec": {
   "display_name": "Python 3",
   "language": "python",
   "name": "python3"
  },
  "language_info": {
   "codemirror_mode": {
    "name": "ipython",
    "version": 3
   },
   "file_extension": ".py",
   "mimetype": "text/x-python",
   "name": "python",
   "nbconvert_exporter": "python",
   "pygments_lexer": "ipython3",
   "version": "3.6.6"
  }
 },
 "nbformat": 4,
 "nbformat_minor": 2
}
